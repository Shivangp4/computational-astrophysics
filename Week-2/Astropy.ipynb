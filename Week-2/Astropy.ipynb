{
 "cells": [
  {
   "cell_type": "markdown",
   "metadata": {},
   "source": [
    "# Astropy\n",
    "\n",
    "As can be read on their [official project site ](https://www.astropy.org)\n",
    "> _**The Astropy Project is a community effort to develop a common core package for Astronomy in Python and foster an ecosystem of interoperable astronomy packages.**_\n",
    "\n",
    "Hence, undoubtedly Astropy is one of the most crucial libraries to work with Astronomy in Python. And we are about to explore its various functionalities! (Not before enjoying a personal attack in the form of meme 🙃)\n",
    "<br><br>\n",
    "<div style=\"text-align: center\">\n",
    "<img src=\"assets/meme-1.jpg\" width=\"600\">\n",
    "</div>"
   ]
  },
  {
   "cell_type": "markdown",
   "metadata": {},
   "source": [
    "# 1. Astropy Constants\n",
    "### Topics\n",
    "\n",
    "- Overview\n",
    "- Various Collections of Constants\n",
    "\n",
    "### Overview\n",
    "\n",
    "`astropy.constants` contains a number of physical constants useful in Astronomy. Constants are `Quantity` objects with additional meta-data describing their history of origin, references and uncertainties. Trust me, it is far easier to use them than what your read here."
   ]
  },
  {
   "cell_type": "code",
   "execution_count": 73,
   "metadata": {},
   "outputs": [],
   "source": [
    "from astropy import constants as const"
   ]
  },
  {
   "cell_type": "code",
   "execution_count": 74,
   "metadata": {},
   "outputs": [
    {
     "name": "stdout",
     "output_type": "stream",
     "text": [
      "  Name   = Gravitational constant\n",
      "  Value  = 6.6743e-11\n",
      "  Uncertainty  = 1.5e-15\n",
      "  Unit  = m3 / (kg s2)\n",
      "  Reference = CODATA 2018\n"
     ]
    }
   ],
   "source": [
    "print(const.G)"
   ]
  },
  {
   "cell_type": "code",
   "execution_count": 75,
   "metadata": {},
   "outputs": [
    {
     "name": "stdout",
     "output_type": "stream",
     "text": [
      "  Name   = Speed of light in vacuum\n",
      "  Value  = 299792458.0\n",
      "  Uncertainty  = 0.0\n",
      "  Unit  = m / s\n",
      "  Reference = CODATA 2018\n",
      "------------------------------\n",
      "  Name   = Electron mass\n",
      "  Value  = 9.1093837015e-31\n",
      "  Uncertainty  = 2.8e-40\n",
      "  Unit  = kg\n",
      "  Reference = CODATA 2018\n"
     ]
    }
   ],
   "source": [
    "# lets try some more!\n",
    "print(const.c)\n",
    "print('-'*30)\n",
    "print(const.m_e)"
   ]
  },
  {
   "cell_type": "code",
   "execution_count": 76,
   "metadata": {},
   "outputs": [
    {
     "name": "stdout",
     "output_type": "stream",
     "text": [
      "299792.458 km / s\n",
      "29979245800.0 cm / s\n"
     ]
    }
   ],
   "source": [
    "# We can even use the constants in different units\n",
    "print(const.c.to('km/s'))\n",
    "print(const.c.cgs)"
   ]
  },
  {
   "cell_type": "code",
   "execution_count": 77,
   "metadata": {},
   "outputs": [
    {
     "name": "stdout",
     "output_type": "stream",
     "text": [
      "Speed of light in vacuum\n",
      "299792458.0\n",
      "0.0\n",
      "m / s\n",
      "CODATA 2018\n"
     ]
    }
   ],
   "source": [
    "# To only access a property of the constant, use {const}.{property}\n",
    "print(const.c.name)\n",
    "print(const.c.value)\n",
    "print(const.c.uncertainty)\n",
    "print(const.c.unit)\n",
    "print(const.c.reference)"
   ]
  },
  {
   "cell_type": "markdown",
   "metadata": {},
   "source": [
    "### Various Collections of Constants\n",
    "\n",
    "One can access different versions of constants from different packaged modules. The constants may vary in some precision in value, uncertainity and/or the reference.\n",
    "Physical CODATA constants are in modules with names like `codata2010`, `codata2014`, or `codata2018`.\n",
    "Astronomical constants defined (primarily) by the International Astronomical Union (IAU) are collected in modules with names like `iau2012` or `iau2015`.\n",
    "\n",
    "Let's try and understand!"
   ]
  },
  {
   "cell_type": "code",
   "execution_count": 78,
   "metadata": {},
   "outputs": [
    {
     "name": "stdout",
     "output_type": "stream",
     "text": [
      "  Name   = Planck constant\n",
      "  Value  = 6.62607004e-34\n",
      "  Uncertainty  = 8.1e-42\n",
      "  Unit  = J s\n",
      "  Reference = CODATA 2014\n",
      "----------------------------------------\n",
      "  Name   = Planck constant\n",
      "  Value  = 6.62607015e-34\n",
      "  Uncertainty  = 0.0\n",
      "  Unit  = J s\n",
      "  Reference = CODATA 2018\n"
     ]
    }
   ],
   "source": [
    "# Physical CODATA constants\n",
    "from astropy.constants import codata2014 as const14\n",
    "print(const14.h)\n",
    "print('-'*40)\n",
    "from astropy.constants import codata2018 as const18\n",
    "print(const18.h)"
   ]
  },
  {
   "cell_type": "code",
   "execution_count": 79,
   "metadata": {},
   "outputs": [
    {
     "name": "stdout",
     "output_type": "stream",
     "text": [
      "  Name   = Solar luminosity\n",
      "  Value  = 3.846e+26\n",
      "  Uncertainty  = 5e+22\n",
      "  Unit  = W\n",
      "  Reference = Allen's Astrophysical Quantities 4th Ed.\n",
      "------------------------------------------------------------\n",
      "  Name   = Nominal solar luminosity\n",
      "  Value  = 3.828e+26\n",
      "  Uncertainty  = 0.0\n",
      "  Unit  = W\n",
      "  Reference = IAU 2015 Resolution B 3\n"
     ]
    }
   ],
   "source": [
    "# Astronomical constants\n",
    "from astropy.constants import iau2012 as const12\n",
    "print(const12.L_sun)\n",
    "print('-'*60)\n",
    "from astropy.constants import iau2015 as const15\n",
    "print(const15.L_sun)"
   ]
  },
  {
   "cell_type": "markdown",
   "metadata": {},
   "source": [
    "# 2. Astropy Units and Quantities\n",
    "\n",
    "In astronomy (and most sciences) we typically have to deal with quantities which have some dimension (i.e. unit). The quantity is completely represented by not only a number but also a unit to go along with it. When we consider the same quantity in a different unit system, the quantity itself will not change, although the number used to represent it does change. While solving involved problems with several dimensional quantities, it may become cumbersome to keep track of the quantity if our program stores it as a single number with implied units. Astropy units library is a useful way to keep track of a dimensional quantity"
   ]
  },
  {
   "cell_type": "code",
   "execution_count": 80,
   "metadata": {},
   "outputs": [
    {
     "name": "stdout",
     "output_type": "stream",
     "text": [
      "42.0 m\n",
      "[1. 2. 3.] m\n",
      "1.0 m\n"
     ]
    }
   ],
   "source": [
    "import numpy as np\n",
    "from astropy import units as u \n",
    "\n",
    "# initialise a dimensional quantity\n",
    "q = 42.0 * u.m \n",
    "lengths = [1,2,3]*u.m\n",
    "\n",
    "# printing the quantities properties individually\n",
    "print(q.value, q.unit)\n",
    "print(lengths.value, lengths.unit)\n",
    "print(lengths[0].value, lengths[0].unit)"
   ]
  },
  {
   "cell_type": "code",
   "execution_count": 81,
   "metadata": {},
   "outputs": [
    {
     "name": "stdout",
     "output_type": "stream",
     "text": [
      "20.0 m / s\n"
     ]
    }
   ],
   "source": [
    "# As obvious it is, you can multiply/divide any units to get some new dimenion unit.\n",
    "# But addition and subtraction is only compatible with same unit quantities.\n",
    "\n",
    "distance2 = 45 * u.m\n",
    "distance1 = 5*u.m\n",
    "time = 2 * u.s\n",
    "\n",
    "speed = (distance2 - distance1)/time\n",
    "print(speed)"
   ]
  },
  {
   "cell_type": "code",
   "execution_count": 82,
   "metadata": {},
   "outputs": [
    {
     "name": "stdout",
     "output_type": "stream",
     "text": [
      "72.0 km / h\n",
      "20.0\n",
      "m / s\n",
      "10000000.0 erg\n",
      "0.1 m\n"
     ]
    }
   ],
   "source": [
    "# We can also use the units library to interconvert between different unit systems using the to() method.\n",
    "# Note that after calling this method, the value stored in quantity.value and quantity.unit don't change.\n",
    "# Another method for converting to cgs/SI is also shown below.\n",
    "\n",
    "\n",
    "print(speed.to(u.km/u.hour))\n",
    "print(speed.value)\n",
    "print(speed.unit)\n",
    "print((1*u.Joule).cgs)\n",
    "print((10*u.cm).si)"
   ]
  },
  {
   "cell_type": "code",
   "execution_count": 83,
   "metadata": {},
   "outputs": [
    {
     "name": "stdout",
     "output_type": "stream",
     "text": [
      "1.5 \n",
      "0.5 \n",
      "0.5 km / m\n",
      "True\n",
      "False\n"
     ]
    }
   ],
   "source": [
    "# A special type of unit in the astropy.units package is the dimensionless quantity.\n",
    "# This can either be initialised directly or come out from units cancelling out.\n",
    "\n",
    "refractive_index = 1.5 *u.dimensionless_unscaled\n",
    "print(refractive_index.value,refractive_index.unit) #No unit is printed, as the quantity is dimensionless\n",
    "\n",
    "distance_ratio1 = (1*u.m)/(2*u.m)\n",
    "print(distance_ratio1.value,distance_ratio1.unit)#This is a true unscaled dimensionless quantity\n",
    "\n",
    "distance_ratio2 = (1*u.km)/(2*u.m)\n",
    "print(distance_ratio2.value,distance_ratio2.unit)#This is also dimensionless, but value is scaled\n",
    "\n",
    "print(distance_ratio1.unit == refractive_index.unit)#both are dimensionless unscaled\n",
    "print(distance_ratio1.unit == distance_ratio2.unit)#both are dimensionless, but one is scaled, the other is not"
   ]
  },
  {
   "cell_type": "code",
   "execution_count": 84,
   "metadata": {},
   "outputs": [
    {
     "name": "stdout",
     "output_type": "stream",
     "text": [
      "1.0 pc / AU\n",
      "206264.80624709633\n",
      "1409.7798243075256 kg / m3\n"
     ]
    }
   ],
   "source": [
    "# now let us explore some astronomical quantities!\n",
    "r = 1*u.AU\n",
    "d = 1*u.parsec\n",
    "print(d/r)\n",
    "print(float(d/r)) # Notice how the float method is used to convert dimensionless scaled quatities to numbers\n",
    "                  # The float method will not work with quantities having some dimension\n",
    "\n",
    "AvgDensity_of_sun = 1*u.Msun/(4*np.pi/3*(1*u.Rsun)**3)\n",
    "print(AvgDensity_of_sun.to(u.kg/u.m**3)) # Side note: note how this quite close to density of water"
   ]
  },
  {
   "cell_type": "code",
   "execution_count": 85,
   "metadata": {},
   "outputs": [
    {
     "name": "stdout",
     "output_type": "stream",
     "text": [
      "299792457999999.94 Hz\n"
     ]
    }
   ],
   "source": [
    "# One more thing! Astropy can also perform 'implicit' conversions.\n",
    "# Lke converting wavelength of light to frequency (in vacuum), by specifying the equivalencies parameter.\n",
    "\n",
    "print((1000 * u.nm).to(u.Hz, equivalencies=u.spectral()))"
   ]
  },
  {
   "cell_type": "markdown",
   "metadata": {},
   "source": [
    "Pretty cool, right?\n",
    "\n",
    "Now, let us explore some core astronomical phenomenon using the above two modules.\n",
    "\n",
    "## Filters in Astronomy\n",
    "Astronomers often use various filters for taking images. These filters selectively allow light of certain wavelengths to pass through them while rejecting others. Several filter systems are in use, and the filters used for a certain observation are usually specified along with the observation data. Here, we will take up a specific filter system, SDSS (Sloan Digital Sky Survey). In general the analysis of any other filter system will also be similar. In this exercise, we will try to plot the $B(\\lambda)$ with $\\lambda$. \n",
    "\n",
    "Recall that Planck's formula for the black body spectrum is given by:$$B(\\lambda,T) = \\frac{2\\pi hc^2}{\\lambda^5}\\left(\\frac{1}{exp\\left(\\frac{hc}{\\lambda k_BT}\\right)-1}\\right)$$$h$ is the planck's constant, $c$ is the speed of light and $k_B$ is Boltzmann constant. $\\lambda$ and $T$ represent the wavelength at which $B$ is measured and temperature of blackbody, respectively.\n",
    "\n",
    "$B(\\lambda,T)d\\lambda$ gives the energy emitted per unit time per unit area of blackbody in the form of light having wavelengths within a wavelength interval of (small) width $d\\lambda$ centred at said $\\lambda$. We will first write a function that returns B with its proper unit (which is $Wm^{-3}$)"
   ]
  },
  {
   "cell_type": "code",
   "execution_count": 86,
   "metadata": {},
   "outputs": [],
   "source": [
    "import numpy as np\n",
    "import matplotlib.pyplot as plt\n",
    "from astropy import constants as const"
   ]
  },
  {
   "cell_type": "code",
   "execution_count": 87,
   "metadata": {},
   "outputs": [],
   "source": [
    "def B(wl,T):\n",
    "    exponential = 1 / (np.exp(const.h*const.c/(wl*const.k_B*T))-1)\n",
    "    prefactor = 2 * np.pi * const.h * const.c**2 / wl**5\n",
    "    return prefactor * exponential"
   ]
  },
  {
   "cell_type": "code",
   "execution_count": 88,
   "metadata": {},
   "outputs": [
    {
     "data": {
      "image/png": "[encoded data removed]",
      "text/plain": [
       "<Figure size 640x480 with 1 Axes>"
      ]
     },
     "metadata": {},
     "output_type": "display_data"
    }
   ],
   "source": [
    "plt.style.use('default')\n",
    "wl0 = np.linspace(100,10000,1000000)*u.nm\n",
    "T0 = 5000 * u.K\n",
    "plt.xscale('log')\n",
    "plt.xlabel('wavelength in nm')\n",
    "plt.ylabel('$B_\\lambda$')\n",
    "plt.plot(wl0.value,B(wl0,T0).value)\n",
    "plt.show()"
   ]
  },
  {
   "cell_type": "markdown",
   "metadata": {},
   "source": [
    "# 3. Astropy Coordinates"
   ]
  },
  {
   "cell_type": "markdown",
   "metadata": {},
   "source": [
    "### Topics\n",
    "\n",
    "- Coordinate Systems\n",
    "- Coordinate Transformations\n",
    "- Distances and Separation\n",
    "- `Astropy.SkyCoord` features\n",
    "- Crossmatching\n",
    "\n",
    "### Overview\n",
    "\n",
    "Astronomers use a wide variety of coordinate systems and formats to represent sky coordinates of celestial objects. For example, you may have seen terms like \"right ascension\" and \"declination\" or \"galactic latitude and longitude,\" and you may have seen angular coordinate components represented as \"0h39m15.9s,\" \"00:39:15.9,\" or 9.81625º. The subpackage `astropy.coordinates` provides tools for representing the coordinates of objects and transforming them between different systems."
   ]
  },
  {
   "cell_type": "code",
   "execution_count": 89,
   "metadata": {},
   "outputs": [],
   "source": [
    "import numpy as np\n",
    "import pandas as pd\n",
    "from astropy import units as u\n",
    "from astropy.coordinates import SkyCoord"
   ]
  },
  {
   "cell_type": "code",
   "execution_count": 90,
   "metadata": {},
   "outputs": [
    {
     "name": "stdout",
     "output_type": "stream",
     "text": [
      "<SkyCoord (ICRS): (ra, dec) in deg\n",
      "    (88.79293899, 7.407064)>\n"
     ]
    }
   ],
   "source": [
    "c = SkyCoord(ra=88.79293899*u.degree, dec=7.407064*u.degree, frame='icrs')\n",
    "print(c)"
   ]
  },
  {
   "cell_type": "code",
   "execution_count": 91,
   "metadata": {},
   "outputs": [
    {
     "data": {
      "text/plain": [
       "88.79293899"
      ]
     },
     "execution_count": 91,
     "metadata": {},
     "output_type": "execute_result"
    }
   ],
   "source": [
    "c.ra.degree "
   ]
  },
  {
   "cell_type": "code",
   "execution_count": 92,
   "metadata": {},
   "outputs": [
    {
     "data": {
      "text/plain": [
       "5.9195292660000005"
      ]
     },
     "execution_count": 92,
     "metadata": {},
     "output_type": "execute_result"
    }
   ],
   "source": [
    "c.ra.hour "
   ]
  },
  {
   "cell_type": "code",
   "execution_count": 93,
   "metadata": {},
   "outputs": [
    {
     "data": {
      "text/plain": [
       "hms_tuple(h=5.0, m=55.0, s=10.305357600001628)"
      ]
     },
     "execution_count": 93,
     "metadata": {},
     "output_type": "execute_result"
    }
   ],
   "source": [
    "c.ra.hms"
   ]
  },
  {
   "cell_type": "code",
   "execution_count": 94,
   "metadata": {},
   "outputs": [
    {
     "data": {
      "text/plain": [
       "7.407064"
      ]
     },
     "execution_count": 94,
     "metadata": {},
     "output_type": "execute_result"
    }
   ],
   "source": [
    "c.dec.degree"
   ]
  },
  {
   "cell_type": "code",
   "execution_count": 95,
   "metadata": {},
   "outputs": [
    {
     "data": {
      "text/plain": [
       "0.12927765470594127"
      ]
     },
     "execution_count": 95,
     "metadata": {},
     "output_type": "execute_result"
    }
   ],
   "source": [
    "c.dec.radian"
   ]
  },
  {
   "cell_type": "markdown",
   "metadata": {},
   "source": [
    "You can also find out the constellation of the astronomical object using `get_constellation`. Can you guess whose coordinates are given in this example?"
   ]
  },
  {
   "cell_type": "code",
   "execution_count": 96,
   "metadata": {},
   "outputs": [
    {
     "data": {
      "text/plain": [
       "'Orion'"
      ]
     },
     "execution_count": 96,
     "metadata": {},
     "output_type": "execute_result"
    }
   ],
   "source": [
    "c.get_constellation(short_name=False, constellation_list='iau')"
   ]
  },
  {
   "cell_type": "markdown",
   "metadata": {},
   "source": [
    "Coordinates can also be converted to strings using the `to_string()` method:"
   ]
  },
  {
   "cell_type": "code",
   "execution_count": 97,
   "metadata": {},
   "outputs": [
    {
     "name": "stdout",
     "output_type": "stream",
     "text": [
      "10.6846 41.2692\n",
      "10d41m04.488s 41d16m09.012s\n",
      "00h42m44.2992s +41d16m09.012s\n"
     ]
    }
   ],
   "source": [
    "c = SkyCoord(ra=10.68458*u.degree, dec=41.26917*u.degree)\n",
    "print(c.to_string('decimal'))\n",
    "print(c.to_string('dms'))\n",
    "print(c.to_string('hmsdms')) "
   ]
  },
  {
   "cell_type": "markdown",
   "metadata": {},
   "source": [
    "## Transformation"
   ]
  },
  {
   "cell_type": "markdown",
   "metadata": {},
   "source": [
    "Astropy allows you to easily switch between different coordinate systems such as FK4/FK5, Galactic, ICRS and different epochs and equinox as well. Read more about these coordinate frames [here](https://adl1995.github.io/an-introduction-to-coordinate-systems-used-in-astronomy.html) and equinox and epochs [here.](https://oneau.wordpress.com/2011/10/27/equinox-epoch) International Celestial Reference System (ICRS) is the most commonly used system and you may assume the coordinates to be in ICRS if nothing else is specified. "
   ]
  },
  {
   "cell_type": "code",
   "execution_count": 98,
   "metadata": {},
   "outputs": [
    {
     "data": {
      "text/plain": [
       "<SkyCoord (Galactic): (l, b) in deg\n",
       "    (121.17424181, -21.57288557)>"
      ]
     },
     "execution_count": 98,
     "metadata": {},
     "output_type": "execute_result"
    }
   ],
   "source": [
    "c_icrs = SkyCoord(ra=10.68458*u.degree, dec=41.26917*u.degree, frame='icrs')\n",
    "c_icrs.galactic "
   ]
  },
  {
   "cell_type": "markdown",
   "metadata": {},
   "source": [
    "For more control, you can use the `transform_to` method, which accepts a frame name, frame class, or frame instance."
   ]
  },
  {
   "cell_type": "code",
   "execution_count": 99,
   "metadata": {},
   "outputs": [
    {
     "data": {
      "text/plain": [
       "<SkyCoord (FK5: equinox=J2000.000): (ra, dec) in deg\n",
       "    (10.68459154, 41.26917146)>"
      ]
     },
     "execution_count": 99,
     "metadata": {},
     "output_type": "execute_result"
    }
   ],
   "source": [
    "c_fk5 = c_icrs.transform_to('fk5')  # c_icrs.fk5 does the same thing\n",
    "c_fk5 "
   ]
  },
  {
   "cell_type": "code",
   "execution_count": 100,
   "metadata": {},
   "outputs": [
    {
     "data": {
      "text/plain": [
       "<SkyCoord (FK5: equinox=J1975.000): (ra, dec) in deg\n",
       "    (10.34209135, 41.13232112)>"
      ]
     },
     "execution_count": 100,
     "metadata": {},
     "output_type": "execute_result"
    }
   ],
   "source": [
    "from astropy.coordinates import FK5\n",
    "c_fk5.transform_to(FK5(equinox='J1975')) "
   ]
  },
  {
   "cell_type": "markdown",
   "metadata": {},
   "source": [
    "## Distances and Convenience Methods"
   ]
  },
  {
   "cell_type": "markdown",
   "metadata": {},
   "source": [
    "Astropy offers a really convenient method to calculate angular distance between 2 points in the night sky given their coordinates. Without Astropy you would have had to apply the Haversine formula which looks something like this:\n",
    "\n",
    "<p align=\"centre\">\n",
    "<img src=\"assets/img1.png\" width=\"400\">\n",
    "</p>\n",
    "\n",
    "Astropy is convenient right?"
   ]
  },
  {
   "cell_type": "code",
   "execution_count": 101,
   "metadata": {},
   "outputs": [
    {
     "data": {
      "text/latex": [
       "$0.46471624 \\; \\mathrm{deg^{2}}$"
      ],
      "text/plain": [
       "<Quantity 0.46471624 deg2>"
      ]
     },
     "execution_count": 101,
     "metadata": {},
     "output_type": "execute_result"
    }
   ],
   "source": [
    "c1 = SkyCoord(ra=10.7855*u.degree, dec=9.420*u.degree, frame='icrs')\n",
    "c2 = SkyCoord(ra=11.0990*u.degree, dec=9.767*u.degree, frame='icrs') \n",
    "#define c1 and c2 to be 2 different coordinates\n",
    "\n",
    "c1.separation(c2)*u.degree #on sky separation"
   ]
  },
  {
   "cell_type": "markdown",
   "metadata": {},
   "source": [
    "If you know the individual distance to the objects, you can also find the 3d distance between the 2 objects."
   ]
  },
  {
   "cell_type": "code",
   "execution_count": 102,
   "metadata": {},
   "outputs": [
    {
     "data": {
      "text/latex": [
       "$1.5326701 \\; \\mathrm{pc}$"
      ],
      "text/plain": [
       "<Distance 1.53267013 pc>"
      ]
     },
     "execution_count": 102,
     "metadata": {},
     "output_type": "execute_result"
    }
   ],
   "source": [
    "c1 = SkyCoord(ra=10.7855*u.degree, dec=9.420*u.degree, distance=10*u.pc, frame='icrs')\n",
    "c2 = SkyCoord(ra=11.0990*u.degree, dec=7.767*u.degree, distance=11.5*u.pc, frame='icrs')\n",
    "c1.separation_3d(c2) "
   ]
  },
  {
   "cell_type": "markdown",
   "metadata": {},
   "source": [
    "The astropy.coordinates sub-package also provides a quick way to get coordinates for named objects, assuming you have an active internet connection. The `from_name` method of SkyCoord uses [Sesame](http://cds.u-strasbg.fr/cgi-bin/Sesame) to retrieve coordinates for a particular named object."
   ]
  },
  {
   "cell_type": "code",
   "execution_count": 103,
   "metadata": {},
   "outputs": [
    {
     "data": {
      "text/plain": [
       "<SkyCoord (ICRS): (ra, dec) in deg\n",
       "    (153.13930897, 53.11737904)>"
      ]
     },
     "execution_count": 103,
     "metadata": {},
     "output_type": "execute_result"
    }
   ],
   "source": [
    "SkyCoord.from_name(\"PSR J1012+5307\") "
   ]
  },
  {
   "cell_type": "code",
   "execution_count": 104,
   "metadata": {},
   "outputs": [
    {
     "data": {
      "text/plain": [
       "<SkyCoord (ICRS): (ra, dec) in deg\n",
       "    (78.63446707, -8.20163836)>"
      ]
     },
     "execution_count": 104,
     "metadata": {},
     "output_type": "execute_result"
    }
   ],
   "source": [
    "SkyCoord.from_name(\"Rigel\") "
   ]
  },
  {
   "cell_type": "markdown",
   "metadata": {},
   "source": [
    "In some cases, the coordinates are embedded in the catalog name of the object. For such object names, `from_name` is able to parse the coordinates from the name if given the `parse=True` option. For slow connections, this may be much faster option."
   ]
  },
  {
   "cell_type": "code",
   "execution_count": 105,
   "metadata": {},
   "outputs": [
    {
     "data": {
      "text/plain": [
       "<SkyCoord (ICRS): (ra, dec) in deg\n",
       "    (296.11666667, -42.03583333)>"
      ]
     },
     "execution_count": 105,
     "metadata": {},
     "output_type": "execute_result"
    }
   ],
   "source": [
    "SkyCoord.from_name(\"CRTS SSS100805 J194428-420209\", parse=True) "
   ]
  },
  {
   "cell_type": "markdown",
   "metadata": {},
   "source": [
    "Astropy also provides a quick way to access the location of Earth observatories using the name of the observatory. The location can be returned as geodetic (latitude/longitude/height) or geocentric (x/y/z). "
   ]
  },
  {
   "cell_type": "code",
   "execution_count": 106,
   "metadata": {},
   "outputs": [
    {
     "data": {
      "text/plain": [
       "GeodeticLocation(lon=<Longitude -155.47833333 deg>, lat=<Latitude 19.82833333 deg>, height=<Quantity 4160. m>)"
      ]
     },
     "execution_count": 106,
     "metadata": {},
     "output_type": "execute_result"
    }
   ],
   "source": [
    "from astropy.coordinates import EarthLocation\n",
    "keck = EarthLocation.of_site('Keck Observatory')  \n",
    "keck.geodetic"
   ]
  },
  {
   "cell_type": "markdown",
   "metadata": {},
   "source": [
    "## Crossmatching"
   ]
  },
  {
   "cell_type": "markdown",
   "metadata": {},
   "source": [
    "Let us now look at the one of the best features of Astropy- its crossmatching tool. Astronomical data analysis involving studying the properties of a particular object in different bands (frequency ranges) and thus, we need to combine the data of an object from different surveys or different telescopes/observatories around the world. Thus we crossmatch different catalogues with each other to identify common sources in the catalogues and then make a new aggregate catalogue combining the initial data.\n",
    "\n",
    "Here's a good video to learn more about crossmatching and understand the need to [crossmatch](https://www.coursera.org/lecture/data-driven-astronomy/what-is-cross-matching-s0plL)."
   ]
  },
  {
   "cell_type": "code",
   "execution_count": 107,
   "metadata": {},
   "outputs": [
    {
     "data": {
      "text/html": [
       "<div>\n",
       "<style scoped>\n",
       "    .dataframe tbody tr th:only-of-type {\n",
       "        vertical-align: middle;\n",
       "    }\n",
       "\n",
       "    .dataframe tbody tr th {\n",
       "        vertical-align: top;\n",
       "    }\n",
       "\n",
       "    .dataframe thead th {\n",
       "        text-align: right;\n",
       "    }\n",
       "</style>\n",
       "<table border=\"1\" class=\"dataframe\">\n",
       "  <thead>\n",
       "    <tr style=\"text-align: right;\">\n",
       "      <th></th>\n",
       "      <th>ra</th>\n",
       "      <th>dec</th>\n",
       "      <th>Source_Name</th>\n",
       "      <th>Fx(uJy)</th>\n",
       "      <th>SIMBAD_Name</th>\n",
       "      <th>Final_Type</th>\n",
       "    </tr>\n",
       "  </thead>\n",
       "  <tbody>\n",
       "    <tr>\n",
       "      <th>0</th>\n",
       "      <td>8.233750</td>\n",
       "      <td>-73.805278</td>\n",
       "      <td>J0032.9-7348</td>\n",
       "      <td>0.2</td>\n",
       "      <td>RX J0032.9-7348</td>\n",
       "      <td>HMXB</td>\n",
       "    </tr>\n",
       "    <tr>\n",
       "      <th>1</th>\n",
       "      <td>12.373333</td>\n",
       "      <td>-73.182222</td>\n",
       "      <td>J0049-732</td>\n",
       "      <td>0.04</td>\n",
       "      <td>[MA93]  300</td>\n",
       "      <td>HMXB</td>\n",
       "    </tr>\n",
       "    <tr>\n",
       "      <th>2</th>\n",
       "      <td>12.260417</td>\n",
       "      <td>-72.847778</td>\n",
       "      <td>J0049-729</td>\n",
       "      <td>0.5</td>\n",
       "      <td>RX J0049.0-7250</td>\n",
       "      <td>HMXB</td>\n",
       "    </tr>\n",
       "    <tr>\n",
       "      <th>3</th>\n",
       "      <td>13.025417</td>\n",
       "      <td>-72.435000</td>\n",
       "      <td>0050-727</td>\n",
       "      <td>1</td>\n",
       "      <td>LIN 198</td>\n",
       "      <td>HMXB</td>\n",
       "    </tr>\n",
       "    <tr>\n",
       "      <th>4</th>\n",
       "      <td>12.686250</td>\n",
       "      <td>-73.268056</td>\n",
       "      <td>J0050.7-7316</td>\n",
       "      <td>0.16</td>\n",
       "      <td>V* DZ Tuc</td>\n",
       "      <td>HMXB</td>\n",
       "    </tr>\n",
       "  </tbody>\n",
       "</table>\n",
       "</div>"
      ],
      "text/plain": [
       "          ra        dec       Source_Name Fx(uJy)      SIMBAD_Name Final_Type\n",
       "0   8.233750 -73.805278  J0032.9-7348         0.2  RX J0032.9-7348       HMXB\n",
       "1  12.373333 -73.182222  J0049-732           0.04      [MA93]  300       HMXB\n",
       "2  12.260417 -72.847778  J0049-729            0.5  RX J0049.0-7250       HMXB\n",
       "3  13.025417 -72.435000   0050-727              1          LIN 198       HMXB\n",
       "4  12.686250 -73.268056  J0050.7-7316        0.16        V* DZ Tuc       HMXB"
      ]
     },
     "execution_count": 107,
     "metadata": {},
     "output_type": "execute_result"
    }
   ],
   "source": [
    "#Let us first load in the 2 catalogs that we need to crossmatch\n",
    "df1= pd.read_csv('Binaries.csv') #Catalog of X-ray binaries\n",
    "df1.head()"
   ]
  },
  {
   "cell_type": "code",
   "execution_count": 108,
   "metadata": {},
   "outputs": [
    {
     "data": {
      "text/html": [
       "<div>\n",
       "<style scoped>\n",
       "    .dataframe tbody tr th:only-of-type {\n",
       "        vertical-align: middle;\n",
       "    }\n",
       "\n",
       "    .dataframe tbody tr th {\n",
       "        vertical-align: top;\n",
       "    }\n",
       "\n",
       "    .dataframe thead th {\n",
       "        text-align: right;\n",
       "    }\n",
       "</style>\n",
       "<table border=\"1\" class=\"dataframe\">\n",
       "  <thead>\n",
       "    <tr style=\"text-align: right;\">\n",
       "      <th></th>\n",
       "      <th>Date_Observed</th>\n",
       "      <th>ra</th>\n",
       "      <th>dec</th>\n",
       "      <th>SIMBAD_Name</th>\n",
       "      <th>Source_Type</th>\n",
       "    </tr>\n",
       "  </thead>\n",
       "  <tbody>\n",
       "    <tr>\n",
       "      <th>0</th>\n",
       "      <td>08-09-2018</td>\n",
       "      <td>311.040700</td>\n",
       "      <td>-10.723457</td>\n",
       "      <td>Mrk  509</td>\n",
       "      <td>Seyfert_1</td>\n",
       "    </tr>\n",
       "    <tr>\n",
       "      <th>1</th>\n",
       "      <td>09-09-2018</td>\n",
       "      <td>308.063667</td>\n",
       "      <td>37.637472</td>\n",
       "      <td>V* V2246 Cyg</td>\n",
       "      <td>HMXB</td>\n",
       "    </tr>\n",
       "    <tr>\n",
       "      <th>2</th>\n",
       "      <td>10-09-2018</td>\n",
       "      <td>274.005787</td>\n",
       "      <td>-14.036283</td>\n",
       "      <td>V* NP Ser</td>\n",
       "      <td>LMXB</td>\n",
       "    </tr>\n",
       "    <tr>\n",
       "      <th>3</th>\n",
       "      <td>11-09-2018</td>\n",
       "      <td>248.506708</td>\n",
       "      <td>-47.393000</td>\n",
       "      <td>X Nor X-1</td>\n",
       "      <td>LMXB</td>\n",
       "    </tr>\n",
       "    <tr>\n",
       "      <th>4</th>\n",
       "      <td>11-09-2018</td>\n",
       "      <td>356.770150</td>\n",
       "      <td>51.704970</td>\n",
       "      <td>QSO B2344+514</td>\n",
       "      <td>BLLac</td>\n",
       "    </tr>\n",
       "  </tbody>\n",
       "</table>\n",
       "</div>"
      ],
      "text/plain": [
       "  Date_Observed          ra        dec    SIMBAD_Name Source_Type\n",
       "0    08-09-2018  311.040700 -10.723457       Mrk  509   Seyfert_1\n",
       "1    09-09-2018  308.063667  37.637472   V* V2246 Cyg        HMXB\n",
       "2    10-09-2018  274.005787 -14.036283      V* NP Ser        LMXB\n",
       "3    11-09-2018  248.506708 -47.393000      X Nor X-1        LMXB\n",
       "4    11-09-2018  356.770150  51.704970  QSO B2344+514       BLLac"
      ]
     },
     "execution_count": 108,
     "metadata": {},
     "output_type": "execute_result"
    }
   ],
   "source": [
    "df2 = pd.read_csv('AstroSat.csv') #Catalog of Astrosat observations in the past 2 years\n",
    "df2.head()"
   ]
  },
  {
   "cell_type": "markdown",
   "metadata": {},
   "source": [
    "We need to find out if any X-ray binaries were observed by AstroSat in the past 2 years. Thus we crossmatch the Binaries catalog with AstroSat catalog to find out any common sources in the 2 datasets."
   ]
  },
  {
   "cell_type": "code",
   "execution_count": 109,
   "metadata": {},
   "outputs": [],
   "source": [
    "ra1 = np.asarray(df1['ra'])\n",
    "dec1 = np.asarray(df1['dec'])\n",
    "ra2 = np.asarray(df2['ra'])\n",
    "dec2 = np.asarray(df2['dec'])\n",
    "\n",
    "c1 = SkyCoord(ra=ra1*u.degree, dec=dec1*u.degree, frame='icrs')\n",
    "c2 = SkyCoord(ra=ra2*u.degree, dec=dec2*u.degree, frame='icrs')\n",
    "\n",
    "idx,d2d,d3d = (c1).match_to_catalog_sky(c2)"
   ]
  },
  {
   "cell_type": "markdown",
   "metadata": {},
   "source": [
    "The `match_to_catalog_sky` function finds the nearest source in catalog 2 for a source in catalog 1. \n",
    "- idx *integer array* : The index of nearest source in cat2 for each source in cat1 \n",
    "- d2d *angle* : The on-sky separation between the closest match for each element"
   ]
  },
  {
   "cell_type": "code",
   "execution_count": 110,
   "metadata": {},
   "outputs": [],
   "source": [
    "df1['Astrosat_Flag'] = np.zeros(len(df1))\n",
    "df1['Date_Observed'] = np.zeros(len(df1))"
   ]
  },
  {
   "cell_type": "markdown",
   "metadata": {},
   "source": [
    "We now set that threshold for max separation as **10 arcsec**. That is if the separation of a source in catalog 1 and catalog 2 is less than 10 arcsec then it must imply that they are the same source. The threshold 10 arcsec is just our max threshold for errors and to get more accurate results we can decrease the threshold."
   ]
  },
  {
   "cell_type": "code",
   "execution_count": 111,
   "metadata": {},
   "outputs": [
    {
     "name": "stderr",
     "output_type": "stream",
     "text": [
      "<ipython-input-111-46c08c5dbd87>:9: SettingWithCopyWarning: \n",
      "A value is trying to be set on a copy of a slice from a DataFrame\n",
      "\n",
      "See the caveats in the documentation: https://pandas.pydata.org/pandas-docs/stable/user_guide/indexing.html#returning-a-view-versus-a-copy\n",
      "  df1['Astrosat_Flag'][id1] = 1 #Set Flag = 1 if there is a match\n",
      "<ipython-input-111-46c08c5dbd87>:10: SettingWithCopyWarning: \n",
      "A value is trying to be set on a copy of a slice from a DataFrame\n",
      "\n",
      "See the caveats in the documentation: https://pandas.pydata.org/pandas-docs/stable/user_guide/indexing.html#returning-a-view-versus-a-copy\n",
      "  df1['Date_Observed'][id1] = df2['Date_Observed'][closest_id2]\n",
      "/home/gurbaaz/miniconda3/lib/python3.8/site-packages/pandas/core/indexing.py:1637: SettingWithCopyWarning: \n",
      "A value is trying to be set on a copy of a slice from a DataFrame\n",
      "\n",
      "See the caveats in the documentation: https://pandas.pydata.org/pandas-docs/stable/user_guide/indexing.html#returning-a-view-versus-a-copy\n",
      "  self._setitem_single_block(indexer, value, name)\n"
     ]
    },
    {
     "name": "stdout",
     "output_type": "stream",
     "text": [
      "26\n",
      "            ra        dec       Source_Name Fx(uJy) SIMBAD_Name Final_Type  \\\n",
      "10   13.639167 -73.684444   0053-739              1   X SMC X-2       HMXB   \n",
      "48   84.727500  26.315833   0535+262              3   HD 245770       HMXB   \n",
      "50   84.735000 -64.083611   0538-641            1.7   X LMC X-3       HMXB   \n",
      "51   84.911250 -69.743333   0540-697              3   X LMC X-1       HMXB   \n",
      "64  135.528750 -40.554722   0900-403              2   V* GP Vel       HMXB   \n",
      "\n",
      "    Astrosat_Flag Date_Observed  \n",
      "10            1.0    07-05-2020  \n",
      "48            1.0    12-11-2020  \n",
      "50            1.0    12-01-2020  \n",
      "51            1.0    31-03-2020  \n",
      "64            1.0    24-12-2018  \n"
     ]
    }
   ],
   "source": [
    "matches = []\n",
    "max_radius = 10./3600 #N\n",
    "\n",
    "for id1, (closest_id2, dist) in enumerate(zip(idx, d2d)): #iterate over every element in idx\n",
    "    closest_dist = dist.value\n",
    "      \n",
    "    if closest_dist < max_radius: #if closest_distance is less than max threshold for errors they must be the same object\n",
    "        matches.append([id1, closest_id2, closest_dist])\n",
    "        df1['Astrosat_Flag'][id1] = 1 #Set Flag = 1 if there is a match\n",
    "        df1['Date_Observed'][id1] = df2['Date_Observed'][closest_id2]\n",
    "\n",
    "print(len(matches)) #number of common sources\n",
    "print(df1[df1['Astrosat_Flag']==1].head())"
   ]
  },
  {
   "cell_type": "markdown",
   "metadata": {},
   "source": [
    "### Digression\n",
    "\n",
    "As a HW problem you may try crossmatching using a simple *for-loop* and `SkyCoord.separation()` instead of `match_to_catalog_sky` and compare the times taken for each. Which do you think is faster?"
   ]
  }
 ],
 "metadata": {
  "kernelspec": {
   "display_name": "Python 3",
   "language": "python",
   "name": "python3"
  },
  "language_info": {
   "codemirror_mode": {
    "name": "ipython",
    "version": 3
   },
   "file_extension": ".py",
   "mimetype": "text/x-python",
   "name": "python",
   "nbconvert_exporter": "python",
   "pygments_lexer": "ipython3",
   "version": "3.8.10"
  }
 },
 "nbformat": 4,
 "nbformat_minor": 4
}
